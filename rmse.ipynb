{
 "cells": [
  {
   "cell_type": "markdown",
   "id": "d4b8a72b",
   "metadata": {},
   "source": [
    "## Reproductible fitting RMSE computation"
   ]
  },
  {
   "cell_type": "code",
   "execution_count": 1,
   "id": "6a906635",
   "metadata": {},
   "outputs": [
    {
     "data": {
      "text/plain": [
       "<torch._C.Generator at 0x20bacb56f70>"
      ]
     },
     "execution_count": 1,
     "metadata": {},
     "output_type": "execute_result"
    }
   ],
   "source": [
    "import numpy as np\n",
    "import matplotlib.pyplot as plt\n",
    "import torch\n",
    "from tqdm import tqdm\n",
    "\n",
    "from jmstate import MultiStateJointModel\n",
    "from jmstate.utils import *\n",
    "\n",
    "torch.manual_seed(42)"
   ]
  },
  {
   "cell_type": "code",
   "execution_count": 2,
   "id": "3f36d889",
   "metadata": {},
   "outputs": [],
   "source": [
    "def log_weibull(t1, t0, lambda_, rho_):\n",
    "    t = t1 - t0\n",
    "    lambda_ = torch.as_tensor(lambda_, dtype=torch.float32)\n",
    "    rho_ = torch.as_tensor(rho_, dtype=torch.float32)\n",
    "    eps = 1e-8\n",
    "    t = t + eps\n",
    "    return torch.log(rho_ / lambda_) + (rho_ - 1) * torch.log(t / lambda_)\n",
    "\n",
    "\n",
    "def double_slope(t, x, psi):\n",
    "    x0 = psi[:, [0]]\n",
    "    a = psi[:, [1]]\n",
    "    b1 = psi[:, [2]]\n",
    "    b2 = psi[:, [3]]\n",
    "    corr = torch.where(t > x0, (b2 - b1) * (t - x0), torch.zeros_like(t))\n",
    "    return (a + b1 * t + corr).unsqueeze(-1)\n",
    "\n",
    "\n",
    "def double_slope_grad(t, x, psi):\n",
    "    x0 = psi[:, [0]]\n",
    "    b1 = psi[:, [2]]\n",
    "    b2 = psi[:, [3]]\n",
    "    return torch.where(t <= x0, b1, b2).unsqueeze(-1)\n",
    "\n",
    "\n",
    "def link(t, x, psi):\n",
    "    return torch.cat([double_slope(t, x, psi), double_slope_grad(t, x, psi)], dim=-1)\n",
    "\n",
    "\n",
    "f = lambda gamma, b: gamma + b"
   ]
  },
  {
   "cell_type": "code",
   "execution_count": 3,
   "id": "bbad7d3c",
   "metadata": {},
   "outputs": [],
   "source": [
    "##############################################\n",
    "\n",
    "lambda_T01 = 6.33\n",
    "rho_T01 = 1.90\n",
    "lambda_T02 = 4.24\n",
    "rho_T02 = 3.16\n",
    "lambda_T12 = 5.70\n",
    "rho_T12 = 1.48\n",
    "\n",
    "##############################################\n",
    "\n",
    "gamma = torch.tensor([1.45, 2.33, -1.38, 0.17])\n",
    "Q_inv = torch.tensor([2.25, 1.34, 0.51, 0.77])\n",
    "R_inv = torch.tensor([1.19])\n",
    "Q_sqrt = torch.matrix_exp(-torch.diag(Q_inv))\n",
    "R_sqrt = torch.exp(-R_inv)\n",
    "alphas= {\n",
    "    (0, 1): torch.tensor([0.07, 5.16]),\n",
    "    (0, 2): torch.tensor([-0.12, 4.84]),\n",
    "    (1, 2): torch.tensor([-0.02, 0.49]),\n",
    "}\n",
    "betas = {\n",
    "    (0, 1): torch.tensor([-1.34]),\n",
    "    (0, 2): torch.tensor([-0.91]),\n",
    "    (1, 2): torch.tensor([-0.54]),\n",
    "}\n",
    "\n",
    "##############################################\n",
    "\n",
    "real_params = ModelParams(\n",
    "    gamma,\n",
    "    (Q_inv, \"diag\"),\n",
    "    (R_inv, \"ball\"),\n",
    "    alphas,\n",
    "    betas\n",
    ")"
   ]
  },
  {
   "cell_type": "code",
   "execution_count": 4,
   "id": "6175a846",
   "metadata": {},
   "outputs": [],
   "source": [
    "log_weibull_T01 = lambda t1, t0: log_weibull(t1, t0, lambda_T01, rho_T01)\n",
    "log_weibull_T02 = lambda t1, t0: log_weibull(t1, t0, lambda_T02, rho_T02)\n",
    "log_weibull_T12 = lambda t1, t0: log_weibull(t1, t0, lambda_T12, rho_T12)\n",
    "\n",
    "surv = {\n",
    "    (0, 1): (log_weibull_T01, link),\n",
    "    (0, 2): (log_weibull_T02, link),\n",
    "    (1, 2): (log_weibull_T12, link),\n",
    "}"
   ]
  },
  {
   "cell_type": "code",
   "execution_count": 5,
   "id": "f33c7498",
   "metadata": {},
   "outputs": [],
   "source": [
    "model_design = ModelDesign(\n",
    "    f,\n",
    "    double_slope,\n",
    "    surv\n",
    ")\n",
    "\n",
    "real_model = MultiStateJointModel(model_design, real_params)"
   ]
  },
  {
   "cell_type": "code",
   "execution_count": 6,
   "id": "0e5ebb2b",
   "metadata": {},
   "outputs": [],
   "source": [
    "n, p = 200, 1\n",
    "\n",
    "def get_data():\n",
    "    t = torch.linspace(0, 15, 16)\n",
    "    c = torch.rand(n) * 5 + 10\n",
    "    x = torch.randn(n, 1) \n",
    "    b = torch.randn(n, real_params.gamma.shape[0]) @ Q_sqrt\n",
    "    psi = f(real_params.gamma, b)\n",
    "\n",
    "    trajectories_init = [[(0.0, 0)] for _ in range(n)]\n",
    "\n",
    "    sample_data = SampleData(\n",
    "        x,\n",
    "        trajectories_init,\n",
    "        psi\n",
    "    )\n",
    "\n",
    "    trajectories = real_model.sample_trajectories(sample_data, c)\n",
    "\n",
    "    y = model_design.h(t, x, psi)\n",
    "    y += torch.randn_like(y) * R_sqrt\n",
    "    y[t.repeat(n, 1) > c.view(-1, 1)] = torch.nan\n",
    "\n",
    "    data = ModelData(\n",
    "        x,\n",
    "        t,\n",
    "        y,\n",
    "        trajectories,\n",
    "        c\n",
    "    )\n",
    "\n",
    "    return data"
   ]
  },
  {
   "cell_type": "code",
   "execution_count": 7,
   "id": "94539058",
   "metadata": {},
   "outputs": [
    {
     "name": "stderr",
     "output_type": "stream",
     "text": [
      "Fitting joint model: 100%|██████████| 3000/3000 [01:17<00:00, 38.82it/s]\n",
      "Fitting joint model: 100%|██████████| 3000/3000 [01:20<00:00, 37.32it/s]\n",
      "Fitting joint model: 100%|██████████| 3000/3000 [01:20<00:00, 37.44it/s]\n",
      "Fitting joint model: 100%|██████████| 3000/3000 [01:16<00:00, 39.08it/s]\n",
      "Fitting joint model: 100%|██████████| 3000/3000 [01:12<00:00, 41.31it/s]\n",
      "Fitting joint model: 100%|██████████| 3000/3000 [01:12<00:00, 41.23it/s]\n",
      "Fitting joint model: 100%|██████████| 3000/3000 [01:11<00:00, 42.05it/s]\n",
      "Fitting joint model: 100%|██████████| 3000/3000 [01:11<00:00, 41.74it/s]\n",
      "Fitting joint model: 100%|██████████| 3000/3000 [01:12<00:00, 41.59it/s]\n",
      "Fitting joint model: 100%|██████████| 3000/3000 [01:11<00:00, 42.22it/s]\n",
      "Fitting joint model: 100%|██████████| 3000/3000 [01:12<00:00, 41.52it/s]\n",
      "Fitting joint model: 100%|██████████| 3000/3000 [01:12<00:00, 41.63it/s]\n",
      "Fitting joint model: 100%|██████████| 3000/3000 [01:12<00:00, 41.49it/s]\n",
      "Fitting joint model: 100%|██████████| 3000/3000 [01:11<00:00, 41.83it/s]\n",
      "Fitting joint model: 100%|██████████| 3000/3000 [01:13<00:00, 40.82it/s]\n",
      "Fitting joint model: 100%|██████████| 3000/3000 [01:12<00:00, 41.30it/s]\n",
      "Fitting joint model: 100%|██████████| 3000/3000 [01:11<00:00, 41.99it/s]\n",
      "Fitting joint model: 100%|██████████| 3000/3000 [01:11<00:00, 42.19it/s]\n",
      "Fitting joint model: 100%|██████████| 3000/3000 [01:11<00:00, 41.99it/s]\n",
      "Fitting joint model: 100%|██████████| 3000/3000 [01:11<00:00, 41.85it/s]\n",
      "Fitting joint model: 100%|██████████| 3000/3000 [01:11<00:00, 42.14it/s]\n",
      "Fitting joint model: 100%|██████████| 3000/3000 [01:11<00:00, 42.16it/s]\n",
      "Fitting joint model: 100%|██████████| 3000/3000 [01:11<00:00, 41.89it/s]\n",
      "Fitting joint model: 100%|██████████| 3000/3000 [01:11<00:00, 41.96it/s]\n",
      "Fitting joint model: 100%|██████████| 3000/3000 [01:12<00:00, 41.53it/s]\n",
      "Fitting joint model: 100%|██████████| 3000/3000 [01:13<00:00, 40.73it/s]\n",
      "Fitting joint model: 100%|██████████| 3000/3000 [01:13<00:00, 40.99it/s]\n",
      "Fitting joint model: 100%|██████████| 3000/3000 [01:08<00:00, 44.02it/s]\n",
      "Fitting joint model: 100%|██████████| 3000/3000 [01:15<00:00, 39.75it/s]\n",
      "Fitting joint model: 100%|██████████| 3000/3000 [01:14<00:00, 40.38it/s]\n",
      "Fitting joint model: 100%|██████████| 3000/3000 [01:13<00:00, 40.63it/s]\n",
      "Fitting joint model: 100%|██████████| 3000/3000 [01:16<00:00, 39.20it/s]\n",
      "Fitting joint model: 100%|██████████| 3000/3000 [01:14<00:00, 40.36it/s]\n",
      "Fitting joint model: 100%|██████████| 3000/3000 [01:18<00:00, 38.33it/s]\n",
      "Fitting joint model: 100%|██████████| 3000/3000 [01:23<00:00, 35.87it/s]\n",
      "Fitting joint model: 100%|██████████| 3000/3000 [01:23<00:00, 35.81it/s]\n",
      "Fitting joint model: 100%|██████████| 3000/3000 [01:23<00:00, 35.79it/s]\n",
      "Fitting joint model: 100%|██████████| 3000/3000 [01:23<00:00, 36.09it/s]\n",
      "Fitting joint model: 100%|██████████| 3000/3000 [01:21<00:00, 36.84it/s]\n",
      "Fitting joint model: 100%|██████████| 3000/3000 [01:21<00:00, 36.98it/s]\n",
      "Fitting joint model: 100%|██████████| 3000/3000 [01:21<00:00, 36.65it/s]\n",
      "Fitting joint model: 100%|██████████| 3000/3000 [01:20<00:00, 37.21it/s]\n",
      "Fitting joint model: 100%|██████████| 3000/3000 [01:21<00:00, 36.70it/s]\n",
      "Fitting joint model: 100%|██████████| 3000/3000 [01:21<00:00, 36.74it/s]\n",
      "Fitting joint model: 100%|██████████| 3000/3000 [01:21<00:00, 36.92it/s]\n",
      "Fitting joint model: 100%|██████████| 3000/3000 [01:21<00:00, 36.95it/s]\n",
      "Fitting joint model: 100%|██████████| 3000/3000 [01:22<00:00, 36.57it/s]\n",
      "Fitting joint model: 100%|██████████| 3000/3000 [01:22<00:00, 36.50it/s]\n",
      "Fitting joint model: 100%|██████████| 3000/3000 [01:22<00:00, 36.34it/s]\n",
      "Fitting joint model: 100%|██████████| 3000/3000 [01:21<00:00, 36.85it/s]\n"
     ]
    }
   ],
   "source": [
    "mse = []\n",
    "\n",
    "loops = 50\n",
    "\n",
    "for _ in range(loops):\n",
    "    seed = int(torch.randint(low=0, high=2**32, size=(1,)))\n",
    "    torch.manual_seed(seed)\n",
    "\n",
    "    data = get_data()\n",
    "    \n",
    "    init_params = ModelParams(\n",
    "        torch.tensor([2.0, 2.0, -1.0, 1.0]),\n",
    "        (torch.zeros_like(Q_inv), \"diag\"),\n",
    "        (torch.zeros_like(R_inv), \"ball\"),\n",
    "        {k: torch.zeros_like(v) for k, v in alphas.items()},\n",
    "        {k: torch.zeros_like(v) for k, v in betas.items()},\n",
    "    )\n",
    "\n",
    "    model = MultiStateJointModel(model_design, init_params)\n",
    "    model.fit(data, n_iter=3000)\n",
    "\n",
    "    mse.append([torch.sum((p - q.detach())**2) for p, q in zip(real_params.as_list, model.params_.as_list)])"
   ]
  },
  {
   "cell_type": "code",
   "execution_count": 8,
   "id": "504b966f",
   "metadata": {},
   "outputs": [
    {
     "name": "stdout",
     "output_type": "stream",
     "text": [
      "tensor([0.1142, 0.2266, 0.0231, 0.3593, 0.4059, 0.3868, 0.1142, 0.1011, 0.1283])\n"
     ]
    }
   ],
   "source": [
    "tensor_mse = torch.vstack([torch.tensor(p).view(1, -1) for p in mse])\n",
    "RMSE = torch.sqrt(torch.mean(tensor_mse, axis=0))\n",
    "print(RMSE)"
   ]
  }
 ],
 "metadata": {
  "kernelspec": {
   "display_name": "Python 3",
   "language": "python",
   "name": "python3"
  },
  "language_info": {
   "codemirror_mode": {
    "name": "ipython",
    "version": 3
   },
   "file_extension": ".py",
   "mimetype": "text/x-python",
   "name": "python",
   "nbconvert_exporter": "python",
   "pygments_lexer": "ipython3",
   "version": "3.13.4"
  }
 },
 "nbformat": 4,
 "nbformat_minor": 5
}
